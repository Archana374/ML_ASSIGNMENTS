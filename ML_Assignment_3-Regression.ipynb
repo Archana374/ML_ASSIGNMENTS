{
 "cells": [
  {
   "cell_type": "code",
   "execution_count": 2,
   "id": "02fd83b2-1a98-4c77-821b-8adfc133ef93",
   "metadata": {},
   "outputs": [
    {
     "name": "stdout",
     "output_type": "stream",
     "text": [
      "MedInc        0\n",
      "HouseAge      0\n",
      "AveRooms      0\n",
      "AveBedrms     0\n",
      "Population    0\n",
      "AveOccup      0\n",
      "Latitude      0\n",
      "Longitude     0\n",
      "dtype: int64\n",
      "     MedInc  HouseAge  AveRooms  AveBedrms  Population  AveOccup  Latitude  \\\n",
      "0  2.344766  0.982143  0.628559  -0.153758   -0.974429 -0.049597  1.052548   \n",
      "1  2.332238 -0.607019  0.327041  -0.263336    0.861439 -0.092512  1.043185   \n",
      "2  1.782699  1.856182  1.155620  -0.049016   -0.820777 -0.025843  1.038503   \n",
      "3  0.932968  1.856182  0.156966  -0.049833   -0.766028 -0.050329  1.038503   \n",
      "4 -0.012881  1.856182  0.344711  -0.032906   -0.759847 -0.085616  1.038503   \n",
      "\n",
      "   Longitude  \n",
      "0  -1.327835  \n",
      "1  -1.322844  \n",
      "2  -1.332827  \n",
      "3  -1.337818  \n",
      "4  -1.337818  \n"
     ]
    }
   ],
   "source": [
    "import pandas as pd\n",
    "from sklearn.datasets import fetch_california_housing\n",
    "from sklearn.preprocessing import StandardScaler\n",
    "\n",
    "# Load the dataset\n",
    "data = fetch_california_housing()\n",
    "X = pd.DataFrame(data.data, columns=data.feature_names)\n",
    "y = pd.Series(data.target, name=\"MedHouseVal\")\n",
    "\n",
    "# Handle missing values (check if any exist)\n",
    "print(X.isnull().sum())  # Display any missing values (if any)\n",
    "\n",
    "# Feature scaling: Standardization\n",
    "scaler = StandardScaler()\n",
    "X_scaled = scaler.fit_transform(X)\n",
    "\n",
    "# Convert scaled features into a DataFrame for better readability\n",
    "X_scaled_df = pd.DataFrame(X_scaled, columns=X.columns)\n",
    "\n",
    "# Print first few rows to inspect\n",
    "print(X_scaled_df.head())\n",
    "\n"
   ]
  },
  {
   "cell_type": "markdown",
   "id": "3b9f53ba-f8eb-4a89-a9af-615098445c85",
   "metadata": {},
   "source": [
    "2. Regression Algorithm Implementation"
   ]
  },
  {
   "cell_type": "code",
   "execution_count": 4,
   "id": "6a834c5b-31db-4ae7-9c94-9fc9e65a1aa0",
   "metadata": {},
   "outputs": [
    {
     "name": "stdout",
     "output_type": "stream",
     "text": [
      "Linear Regression - Predictions: [0.71912284 1.76401657 2.70965883 2.83892593 2.60465725]\n",
      "Decision Tree - Predictions: [0.425   1.203   5.00001 2.225   2.257  ]\n",
      "Random Forest - Predictions: [0.48217   0.71795   4.8455164 2.5594    2.27377  ]\n",
      "Gradient Boosting - Predictions: [0.50518761 1.09334601 4.24570956 2.54517359 2.27910301]\n",
      "SVR - Predictions: [0.52166189 1.56843583 3.58873947 2.48204847 2.58237506]\n"
     ]
    }
   ],
   "source": [
    "from sklearn.linear_model import LinearRegression\n",
    "from sklearn.tree import DecisionTreeRegressor\n",
    "from sklearn.ensemble import RandomForestRegressor, GradientBoostingRegressor\n",
    "from sklearn.svm import SVR\n",
    "from sklearn.model_selection import train_test_split\n",
    "\n",
    "# Split the data into training and testing sets\n",
    "X_train, X_test, y_train, y_test = train_test_split(X_scaled_df, y, test_size=0.2, random_state=42)\n",
    "\n",
    "# Initialize models\n",
    "models = {\n",
    "    \"Linear Regression\": LinearRegression(),\n",
    "    \"Decision Tree\": DecisionTreeRegressor(),\n",
    "    \"Random Forest\": RandomForestRegressor(),\n",
    "    \"Gradient Boosting\": GradientBoostingRegressor(),\n",
    "    \"SVR\": SVR()\n",
    "}\n",
    "\n",
    "# Train and predict using each model\n",
    "for name, model in models.items():\n",
    "    model.fit(X_train, y_train)\n",
    "    y_pred = model.predict(X_test)\n",
    "    print(f\"{name} - Predictions: {y_pred[:5]}\")  # Displaying the first 5 predictions\n"
   ]
  },
  {
   "cell_type": "markdown",
   "id": "dec7e1ea-5453-45d1-9f9c-4ebbd536b25c",
   "metadata": {},
   "source": [
    "3. Model Evaluation and Comparison \n",
    "After training the models, we will evaluate each model using:\n",
    "\n",
    "Mean Squared Error (MSE)\n",
    "Mean Absolute Error (MAE)\n",
    "R-squared Score (R²)"
   ]
  },
  {
   "cell_type": "code",
   "execution_count": 6,
   "id": "8d6541e4-c558-400e-87b1-3121df95c991",
   "metadata": {},
   "outputs": [
    {
     "name": "stdout",
     "output_type": "stream",
     "text": [
      "                        MSE       MAE        R²\n",
      "Linear Regression  0.555892  0.533200  0.575788\n",
      "Decision Tree      0.500997  0.456614  0.617679\n",
      "Random Forest      0.253631  0.326988  0.806449\n",
      "Gradient Boosting  0.294080  0.371723  0.775581\n",
      "SVR                0.355198  0.397763  0.728941\n"
     ]
    }
   ],
   "source": [
    "from sklearn.metrics import mean_squared_error, mean_absolute_error, r2_score\n",
    "\n",
    "# Evaluate models\n",
    "evaluation_metrics = {}\n",
    "\n",
    "for name, model in models.items():\n",
    "    y_pred = model.predict(X_test)\n",
    "    \n",
    "    mse = mean_squared_error(y_test, y_pred)\n",
    "    mae = mean_absolute_error(y_test, y_pred)\n",
    "    r2 = r2_score(y_test, y_pred)\n",
    "    \n",
    "    evaluation_metrics[name] = {\"MSE\": mse, \"MAE\": mae, \"R²\": r2}\n",
    "\n",
    "# Convert to DataFrame for easy comparison\n",
    "metrics_df = pd.DataFrame(evaluation_metrics).T\n",
    "print(metrics_df)\n"
   ]
  },
  {
   "cell_type": "code",
   "execution_count": null,
   "id": "ce4e6b5d-a10d-488f-9231-d1a03d944b33",
   "metadata": {},
   "outputs": [],
   "source": []
  }
 ],
 "metadata": {
  "kernelspec": {
   "display_name": "Python [conda env:base] *",
   "language": "python",
   "name": "conda-base-py"
  },
  "language_info": {
   "codemirror_mode": {
    "name": "ipython",
    "version": 3
   },
   "file_extension": ".py",
   "mimetype": "text/x-python",
   "name": "python",
   "nbconvert_exporter": "python",
   "pygments_lexer": "ipython3",
   "version": "3.12.7"
  }
 },
 "nbformat": 4,
 "nbformat_minor": 5
}
